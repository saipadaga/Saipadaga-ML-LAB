{
 "cells": [
  {
   "cell_type": "code",
   "execution_count": null,
   "metadata": {},
   "outputs": [],
   "source": [
    "pip install pgmpy"
   ]
  },
  {
   "cell_type": "code",
   "execution_count": null,
   "metadata": {},
   "outputs": [],
   "source": [
    "\n",
    "import numpy as np\n",
    "import pandas as pd\n",
    "from pgmpy.estimators import MaximumLikelihoodEstimator\n",
    "from pgmpy.models import BayesianModel\n",
    "from pgmpy.inference import VariableElimination\n",
    "\n",
    "# Read Cleveland Heart Disease data\n",
    "heartDisease = pd.read_csv('./Datasets/Lab13.csv')\n",
    "heartDisease = heartDisease.replace('?', np.nan)\n",
    "\n",
    "# Display the data\n",
    "print('Few examples from the dataset are given below:')\n",
    "print(heartDisease.head())\n",
    "\n",
    "# Display the Attributes names and datatypes\n",
    "print('\\nAttributes and datatypes:')\n",
    "print(heartDisease.dtypes)\n",
    "\n",
    "# Check the unique values in the 'restecg' column\n",
    "print('\\nUnique values in restecg:')\n",
    "unique_restecg_values = heartDisease['restecg'].unique()\n",
    "print(unique_restecg_values)  # Print unique values\n"
   ]
  },
  {
   "cell_type": "code",
   "execution_count": null,
   "metadata": {},
   "outputs": [],
   "source": [
    "\n",
    "model = BayesianModel([\n",
    "    ('age', 'Heartdisease'),\n",
    "    ('sex', 'Heartdisease'),\n",
    "    ('exang', 'Heartdisease'),\n",
    "    ('cp', 'Heartdisease'),\n",
    "    ('Heartdisease', 'restecg'),\n",
    "    ('Heartdisease', 'chol')\n",
    "])\n",
    "\n",
    "print('\\nLearning CPD using Maximum Likelihood Estimators:')\n",
    "model.fit(heartDisease, estimator=MaximumLikelihoodEstimator)\n",
    "\n",
    "print('\\nInferencing with Bayesian Network:')\n",
    "HeartDiseasetest_infer = VariableElimination(model)\n",
    "\n",
    "\n",
    "if len(unique_restecg_values) > 0:\n",
    "    valid_restecg_value = unique_restecg_values[0]  # Change this if needed based on your dataset\n",
    "    print(f'\\n1. Probability of HeartDisease given evidence= restecg: {valid_restecg_value}')\n",
    "    q1 = HeartDiseasetest_infer.query(variables=['Heartdisease'], evidence={'restecg': valid_restecg_value})\n",
    "    print(q1)\n",
    "else:\n",
    "    print(\"No unique values found for restecg.\")\n",
    "\n",
    "print('\\n2. Probability of HeartDisease given evidence= cp: 2')\n",
    "q2 = HeartDiseasetest_infer.query(variables=['Heartdisease'], evidence={'cp': 2})\n",
    "print(q2)"
   ]
  },
  {
   "cell_type": "code",
   "execution_count": null,
   "metadata": {},
   "outputs": [],
   "source": []
  }
 ],
 "metadata": {
  "kernelspec": {
   "display_name": "base",
   "language": "python",
   "name": "python3"
  },
  "language_info": {
   "codemirror_mode": {
    "name": "ipython",
    "version": 3
   },
   "file_extension": ".py",
   "mimetype": "text/x-python",
   "name": "python",
   "nbconvert_exporter": "python",
   "pygments_lexer": "ipython3",
   "version": "3.11.5"
  }
 },
 "nbformat": 4,
 "nbformat_minor": 2
}
