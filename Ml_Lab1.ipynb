{
 "cells": [
  {
   "cell_type": "code",
   "execution_count": 1,
   "metadata": {},
   "outputs": [
    {
     "name": "stdout",
     "output_type": "stream",
     "text": [
      "\n",
      "The most general hypothesis: ['?','?','?','?','?','?']\n",
      "\n",
      "\n",
      "The most specific hypothesis: ['0','0','0','0','0','0']\n",
      "\n"
     ]
    }
   ],
   "source": [
    "import csv\n",
    "\n",
    "attributes = [['Sunny', 'Rainy'],\n",
    "              ['Warm', 'Cold'],\n",
    "              ['Normal', 'High'],\n",
    "              ['Strong', 'Weak'],\n",
    "              ['Warm', 'Cool'],\n",
    "              ['Same', 'Change']]\n",
    "\n",
    "num_attributes = len(attributes)\n",
    "\n",
    "print(\"\\nThe most general hypothesis: ['?','?','?','?','?','?']\\n\")\n",
    "print(\"\\nThe most specific hypothesis: ['0','0','0','0','0','0']\\n\")"
   ]
  },
  {
   "cell_type": "code",
   "execution_count": 8,
   "metadata": {},
   "outputs": [
    {
     "name": "stdout",
     "output_type": "stream",
     "text": [
      "\n",
      "The Given Training Data Set\n",
      "\n",
      "['Sunny', 'Warm', 'Normal', 'Strong', 'Warm', 'Same', 'Yes']\n",
      "['Sunny', 'Warm', 'High', 'Strong', 'Warm', 'Same', 'Yes']\n",
      "['Rainy', 'Cold', 'High', 'Strong', 'Warm', 'Change', 'No']\n",
      "['Sunny', 'Warm', 'High', 'Strong', 'Cool', 'Change', 'Yes']\n"
     ]
    }
   ],
   "source": [
    "data = []\n",
    "\n",
    "print(\"\\nThe Given Training Data Set\\n\")\n",
    "with open('./Datasets/Lab1.csv', 'r') as csvFile:\n",
    "    reader = csv.reader(csvFile)\n",
    "    for row in reader:\n",
    "        data.append(row)\n",
    "        print(row)"
   ]
  },
  {
   "cell_type": "code",
   "execution_count": 9,
   "metadata": {},
   "outputs": [
    {
     "name": "stdout",
     "output_type": "stream",
     "text": [
      "\n",
      "The initial value of hypothesis:\n",
      "['0', '0', '0', '0', '0', '0']\n"
     ]
    }
   ],
   "source": [
    "print(\"\\nThe initial value of hypothesis:\")\n",
    "hypothesis = ['0'] * num_attributes\n",
    "print(hypothesis)"
   ]
  },
  {
   "cell_type": "code",
   "execution_count": 18,
   "metadata": {},
   "outputs": [
    {
     "name": "stdout",
     "output_type": "stream",
     "text": [
      "\n",
      "Find S: Finding a Maximally Specific Hypothesis\n",
      "\n",
      "For Training Example No 1, the hypothesis is ['Sunny', 'Warm', '?', 'Strong', 'Warm', 'Same']\n",
      "For Training Example No 2, the hypothesis is ['Sunny', 'Warm', '?', 'Strong', 'Warm', 'Same']\n",
      "For Training Example No 3, the hypothesis is ['Sunny', 'Warm', '?', 'Strong', 'Warm', 'Same']\n",
      "For Training Example No 4, the hypothesis is ['Sunny', 'Warm', '?', 'Strong', '?', '?']\n"
     ]
    }
   ],
   "source": [
    "for j in range(num_attributes):\n",
    "    hypothesis[j] = data[1][j]\n",
    "\n",
    "print(\"\\nFind S: Finding a Maximally Specific Hypothesis\\n\")\n",
    "for i in range(len(data)):\n",
    "    if data[i][num_attributes] == 'Yes':\n",
    "        for j in range(num_attributes):\n",
    "            if data[i][j] != hypothesis[j]:\n",
    "                hypothesis[j] = '?'\n",
    "            else:\n",
    "                hypothesis[j] = data[i][j]\n",
    "    print(f\"For Training Example No {i + 1}, the hypothesis is {hypothesis}\")"
   ]
  },
  {
   "cell_type": "code",
   "execution_count": 19,
   "metadata": {},
   "outputs": [
    {
     "name": "stdout",
     "output_type": "stream",
     "text": [
      "\n",
      "The Maximally Specific Hypothesis for a given Training Example:\n",
      "\n",
      "['Sunny', 'Warm', '?', 'Strong', '?', '?']\n"
     ]
    }
   ],
   "source": [
    "print(\"\\nThe Maximally Specific Hypothesis for a given Training Example:\\n\")\n",
    "print(hypothesis)"
   ]
  }
 ],
 "metadata": {
  "kernelspec": {
   "display_name": "base",
   "language": "python",
   "name": "python3"
  },
  "language_info": {
   "codemirror_mode": {
    "name": "ipython",
    "version": 3
   },
   "file_extension": ".py",
   "mimetype": "text/x-python",
   "name": "python",
   "nbconvert_exporter": "python",
   "pygments_lexer": "ipython3",
   "version": "3.11.5"
  }
 },
 "nbformat": 4,
 "nbformat_minor": 2
}
