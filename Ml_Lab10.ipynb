{
 "cells": [
  {
   "cell_type": "code",
   "execution_count": 2,
   "metadata": {},
   "outputs": [
    {
     "name": "stdout",
     "output_type": "stream",
     "text": [
      "                              message  label\n",
      "0                I love this sandwich      1\n",
      "1            This is an amazing place      1\n",
      "2  I feel very good about these beers      1\n",
      "3                This is my best work      1\n",
      "4                What an awesome view      1\n",
      "\n",
      "Results:\n",
      "\n",
      "Accuracy: 1.00\n",
      "Precision: 1.00\n",
      "Recall: 1.00\n",
      "\n",
      "Classification Report:\n",
      "               precision    recall  f1-score   support\n",
      "\n",
      "           0       1.00      1.00      1.00         2\n",
      "           1       1.00      1.00      1.00         2\n",
      "\n",
      "    accuracy                           1.00         4\n",
      "   macro avg       1.00      1.00      1.00         4\n",
      "weighted avg       1.00      1.00      1.00         4\n",
      "\n",
      "\n",
      "Sample Data:\n",
      "\n",
      "                              message  label\n",
      "                 I love this sandwich      1\n",
      "             This is an amazing place      1\n",
      "   I feel very good about these beers      1\n",
      "                 This is my best work      1\n",
      "                 What an awesome view      1\n",
      "        I do not like this restaurant      0\n",
      "             I am tired of this stuff      0\n",
      "               I can't deal with this      0\n",
      "                 He is my sworn enemy      0\n",
      "                  My boss is horrible      0\n",
      "             This is an awesome place      1\n",
      "I do not like the taste of this juice      0\n",
      "                      I love to dance      1\n",
      "    I am sick and tired of this place      0\n",
      "                 What a great holiday      1\n",
      "       That is a bad locality to stay      0\n",
      "       We will have good fun tomorrow      1\n",
      "     I went to my enemy's house today      0\n"
     ]
    }
   ],
   "source": [
    "import pandas as pd\n",
    "from sklearn.model_selection import train_test_split\n",
    "from sklearn.naive_bayes import MultinomialNB\n",
    "from sklearn.feature_extraction.text import CountVectorizer\n",
    "from sklearn.metrics import accuracy_score, precision_score, recall_score, classification_report\n",
    "\n",
    "df = pd.read_csv('./Datasets/Lab10.csv')\n",
    "\n",
    "print(df.head()) \n",
    "\n",
    "X = df['message']\n",
    "y = df['label']\n",
    "\n",
    "X_train, X_test, y_train, y_test = train_test_split(X, y, test_size=0.2, random_state=42)\n",
    "\n",
    "vectorizer = CountVectorizer()\n",
    "X_train_vectorized = vectorizer.fit_transform(X_train)\n",
    "X_test_vectorized = vectorizer.transform(X_test)\n",
    "\n",
    "model = MultinomialNB()\n",
    "model.fit(X_train_vectorized, y_train)\n",
    "\n",
    "y_pred = model.predict(X_test_vectorized)\n",
    "\n",
    "accuracy = accuracy_score(y_test, y_pred)\n",
    "precision = precision_score(y_test, y_pred)\n",
    "recall = recall_score(y_test, y_pred)\n",
    "\n",
    "print(\"\\nResults:\\n\")\n",
    "print(\"Accuracy: {:.2f}\".format(accuracy))\n",
    "print(\"Precision: {:.2f}\".format(precision))\n",
    "print(\"Recall: {:.2f}\".format(recall))\n",
    "print(\"\\nClassification Report:\\n\", classification_report(y_test, y_pred))\n",
    "\n",
    "print(\"\\nSample Data:\\n\")\n",
    "print(df.to_string(index=False))  \n"
   ]
  },
  {
   "cell_type": "code",
   "execution_count": null,
   "metadata": {},
   "outputs": [],
   "source": []
  }
 ],
 "metadata": {
  "kernelspec": {
   "display_name": "base",
   "language": "python",
   "name": "python3"
  },
  "language_info": {
   "codemirror_mode": {
    "name": "ipython",
    "version": 3
   },
   "file_extension": ".py",
   "mimetype": "text/x-python",
   "name": "python",
   "nbconvert_exporter": "python",
   "pygments_lexer": "ipython3",
   "version": "3.11.5"
  }
 },
 "nbformat": 4,
 "nbformat_minor": 2
}
